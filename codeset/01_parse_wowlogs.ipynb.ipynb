{
 "cells": [
  {
   "cell_type": "code",
   "execution_count": 3,
   "metadata": {
    "collapsed": false
   },
   "outputs": [],
   "source": [
    "#Working perfectly\n",
    "import numpy as np\n",
    "import os\n",
    "import re\n",
    "walk_dir = \"E:\\Sulekhas BOOKSHELF\\GreatLakes\\CapStoneProject\\Topics\\wowah\\Dataset\\WoWAH\"\n",
    "strings = []\n",
    "for root, subdirs, files in os.walk(walk_dir):\n",
    "    for filename in files:\n",
    "            file_path = os.path.join(root, filename)\n",
    "            with open(file_path) as f:\n",
    "                 for line in f:\n",
    "                    if \"/\" in line:\n",
    "                        strings.extend(re.findall(r'\"(.*?)\"', line, re.DOTALL))\n",
    "thefile = open('wowahtest.csv', 'w')\n",
    "for item in strings:\n",
    "    thefile.write(\"%s\\n\" % item)"
   ]
  },
  {
   "cell_type": "code",
   "execution_count": 12,
   "metadata": {
    "collapsed": true
   },
   "outputs": [],
   "source": [
    "class wow_parser:\n",
    "    def parse_logs(self,root_dir,output_file):\n",
    "        import numpy as np\n",
    "        import os\n",
    "        import re\n",
    "        strings = []   \n",
    "        for root, subdirs, files in os.walk(root_dir):\n",
    "            for filename in files:\n",
    "                if filename.endswith(\".txt\"):\n",
    "                    file_path = os.path.join(root, filename)\n",
    "                    with open(file_path) as f:\n",
    "                        for line in f:\n",
    "                            if \"/\" in line:\n",
    "                                strings.extend(re.findall(r'\"(.*?)\"', line, re.DOTALL))\n",
    "        thefile = open(output_file, 'w')\n",
    "        for item in strings:\n",
    "            thefile.write(\"%s\\n\" % item)"
   ]
  },
  {
   "cell_type": "code",
   "execution_count": 13,
   "metadata": {
    "collapsed": true
   },
   "outputs": [],
   "source": [
    "parse = wow_parser()"
   ]
  },
  {
   "cell_type": "code",
   "execution_count": 10,
   "metadata": {
    "collapsed": false
   },
   "outputs": [],
   "source": [
    "parse.parse_logs(root_dir = \"E:\\Sulekhas BOOKSHELF\\GreatLakes\\CapStoneProject\\Topics\\wowah\\Dataset\\WoWAH\",output_file = \"E:\\Sulekhas BOOKSHELF\\GreatLakes\\CapStoneProject\\Topics\\wowah\\Dataset\\WoWAH\\wowlogs.csv\")"
   ]
  },
  {
   "cell_type": "code",
   "execution_count": 14,
   "metadata": {
    "collapsed": false
   },
   "outputs": [],
   "source": [
    "dirpath = \"H:\\WoWAH\"\n",
    "outputpath = \"H:\\Output\\wowlogs.csv\"\n",
    "parse.parse_logs(root_dir = dirpath, output_file = outputpath)"
   ]
  },
  {
   "cell_type": "code",
   "execution_count": 16,
   "metadata": {
    "collapsed": false
   },
   "outputs": [],
   "source": [
    "import pandas as pd"
   ]
  },
  {
   "cell_type": "code",
   "execution_count": 18,
   "metadata": {
    "collapsed": false
   },
   "outputs": [],
   "source": [
    "df = pd.read_csv(\"H:\\Output\\wowlogs.csv\")"
   ]
  },
  {
   "cell_type": "code",
   "execution_count": 20,
   "metadata": {
    "collapsed": false
   },
   "outputs": [
    {
     "data": {
      "text/plain": [
       "0                     41063254\n",
       " 12/31/05 23:59:46    41063254\n",
       " 1                    41063254\n",
       "0.1                   41063254\n",
       "                      41063254\n",
       " 5                    41063254\n",
       " Orc                  41063254\n",
       " Warrior              41063254\n",
       " Durotar              41063254\n",
       " no                   41063254\n",
       " 0                    41063254\n",
       "dtype: int64"
      ]
     },
     "execution_count": 20,
     "metadata": {},
     "output_type": "execute_result"
    }
   ],
   "source": [
    "df.count()"
   ]
  },
  {
   "cell_type": "code",
   "execution_count": 22,
   "metadata": {
    "collapsed": false
   },
   "outputs": [
    {
     "data": {
      "text/html": [
       "<div>\n",
       "<table border=\"1\" class=\"dataframe\">\n",
       "  <thead>\n",
       "    <tr style=\"text-align: right;\">\n",
       "      <th></th>\n",
       "      <th>0</th>\n",
       "      <th>12/31/05 23:59:46</th>\n",
       "      <th>1</th>\n",
       "      <th>0.1</th>\n",
       "      <th></th>\n",
       "      <th>5</th>\n",
       "      <th>Orc</th>\n",
       "      <th>Warrior</th>\n",
       "      <th>Durotar</th>\n",
       "      <th>no</th>\n",
       "      <th>0</th>\n",
       "    </tr>\n",
       "  </thead>\n",
       "  <tbody>\n",
       "    <tr>\n",
       "      <th>41063249</th>\n",
       "      <td>0</td>\n",
       "      <td>01/10/09 05:08:48</td>\n",
       "      <td>56</td>\n",
       "      <td>36893</td>\n",
       "      <td>104</td>\n",
       "      <td>80</td>\n",
       "      <td>Blood Elf</td>\n",
       "      <td>Mage</td>\n",
       "      <td>Dalaran</td>\n",
       "      <td>MAGE</td>\n",
       "      <td>0</td>\n",
       "    </tr>\n",
       "    <tr>\n",
       "      <th>41063250</th>\n",
       "      <td>0</td>\n",
       "      <td>01/10/09 05:08:48</td>\n",
       "      <td>56</td>\n",
       "      <td>39532</td>\n",
       "      <td>204</td>\n",
       "      <td>80</td>\n",
       "      <td>Blood Elf</td>\n",
       "      <td>Mage</td>\n",
       "      <td>The Storm Peaks</td>\n",
       "      <td>MAGE</td>\n",
       "      <td>0</td>\n",
       "    </tr>\n",
       "    <tr>\n",
       "      <th>41063251</th>\n",
       "      <td>0</td>\n",
       "      <td>01/10/09 05:08:59</td>\n",
       "      <td>58</td>\n",
       "      <td>90033</td>\n",
       "      <td>502</td>\n",
       "      <td>80</td>\n",
       "      <td>Blood Elf</td>\n",
       "      <td>Death Knight</td>\n",
       "      <td>Sholazar Basin</td>\n",
       "      <td>DEATHKNIGHT</td>\n",
       "      <td>0</td>\n",
       "    </tr>\n",
       "    <tr>\n",
       "      <th>41063252</th>\n",
       "      <td>0</td>\n",
       "      <td>01/10/09 05:08:59</td>\n",
       "      <td>58</td>\n",
       "      <td>87974</td>\n",
       "      <td>251</td>\n",
       "      <td>80</td>\n",
       "      <td>Blood Elf</td>\n",
       "      <td>Death Knight</td>\n",
       "      <td>Blade's Edge Mountains</td>\n",
       "      <td>DEATHKNIGHT</td>\n",
       "      <td>0</td>\n",
       "    </tr>\n",
       "    <tr>\n",
       "      <th>41063253</th>\n",
       "      <td>0</td>\n",
       "      <td>01/10/09 05:08:59</td>\n",
       "      <td>58</td>\n",
       "      <td>86679</td>\n",
       "      <td>459</td>\n",
       "      <td>80</td>\n",
       "      <td>Blood Elf</td>\n",
       "      <td>Death Knight</td>\n",
       "      <td>Shadowmoon Valley</td>\n",
       "      <td>DEATHKNIGHT</td>\n",
       "      <td>0</td>\n",
       "    </tr>\n",
       "  </tbody>\n",
       "</table>\n",
       "</div>"
      ],
      "text/plain": [
       "          0   12/31/05 23:59:46   1    0.1        5         Orc  \\\n",
       "41063249  0   01/10/09 05:08:48  56  36893  104  80   Blood Elf   \n",
       "41063250  0   01/10/09 05:08:48  56  39532  204  80   Blood Elf   \n",
       "41063251  0   01/10/09 05:08:59  58  90033  502  80   Blood Elf   \n",
       "41063252  0   01/10/09 05:08:59  58  87974  251  80   Blood Elf   \n",
       "41063253  0   01/10/09 05:08:59  58  86679  459  80   Blood Elf   \n",
       "\n",
       "                Warrior                  Durotar            no   0  \n",
       "41063249           Mage                  Dalaran          MAGE   0  \n",
       "41063250           Mage          The Storm Peaks          MAGE   0  \n",
       "41063251   Death Knight           Sholazar Basin   DEATHKNIGHT   0  \n",
       "41063252   Death Knight   Blade's Edge Mountains   DEATHKNIGHT   0  \n",
       "41063253   Death Knight        Shadowmoon Valley   DEATHKNIGHT   0  "
      ]
     },
     "execution_count": 22,
     "metadata": {},
     "output_type": "execute_result"
    }
   ],
   "source": [
    "df.tail(5)"
   ]
  },
  {
   "cell_type": "code",
   "execution_count": 23,
   "metadata": {
    "collapsed": false
   },
   "outputs": [
    {
     "data": {
      "text/html": [
       "<div>\n",
       "<table border=\"1\" class=\"dataframe\">\n",
       "  <thead>\n",
       "    <tr style=\"text-align: right;\">\n",
       "      <th></th>\n",
       "      <th>0</th>\n",
       "      <th>12/31/05 23:59:46</th>\n",
       "      <th>1</th>\n",
       "      <th>0.1</th>\n",
       "      <th></th>\n",
       "      <th>5</th>\n",
       "      <th>Orc</th>\n",
       "      <th>Warrior</th>\n",
       "      <th>Durotar</th>\n",
       "      <th>no</th>\n",
       "      <th>0</th>\n",
       "    </tr>\n",
       "  </thead>\n",
       "  <tbody>\n",
       "    <tr>\n",
       "      <th>0</th>\n",
       "      <td>0</td>\n",
       "      <td>12/31/05 23:59:46</td>\n",
       "      <td>1</td>\n",
       "      <td>1</td>\n",
       "      <td></td>\n",
       "      <td>9</td>\n",
       "      <td>Orc</td>\n",
       "      <td>Shaman</td>\n",
       "      <td>Durotar</td>\n",
       "      <td>yes</td>\n",
       "      <td>0</td>\n",
       "    </tr>\n",
       "    <tr>\n",
       "      <th>1</th>\n",
       "      <td>0</td>\n",
       "      <td>12/31/05 23:59:52</td>\n",
       "      <td>2</td>\n",
       "      <td>2</td>\n",
       "      <td></td>\n",
       "      <td>13</td>\n",
       "      <td>Orc</td>\n",
       "      <td>Shaman</td>\n",
       "      <td>Durotar</td>\n",
       "      <td>no</td>\n",
       "      <td>0</td>\n",
       "    </tr>\n",
       "    <tr>\n",
       "      <th>2</th>\n",
       "      <td>0</td>\n",
       "      <td>12/31/05 23:59:52</td>\n",
       "      <td>2</td>\n",
       "      <td>3</td>\n",
       "      <td>0</td>\n",
       "      <td>14</td>\n",
       "      <td>Orc</td>\n",
       "      <td>Warrior</td>\n",
       "      <td>Durotar</td>\n",
       "      <td>no</td>\n",
       "      <td>0</td>\n",
       "    </tr>\n",
       "    <tr>\n",
       "      <th>3</th>\n",
       "      <td>0</td>\n",
       "      <td>12/31/05 23:59:52</td>\n",
       "      <td>2</td>\n",
       "      <td>4</td>\n",
       "      <td></td>\n",
       "      <td>14</td>\n",
       "      <td>Orc</td>\n",
       "      <td>Shaman</td>\n",
       "      <td>Durotar</td>\n",
       "      <td>yes</td>\n",
       "      <td>0</td>\n",
       "    </tr>\n",
       "    <tr>\n",
       "      <th>4</th>\n",
       "      <td>0</td>\n",
       "      <td>12/31/05 23:59:52</td>\n",
       "      <td>2</td>\n",
       "      <td>5</td>\n",
       "      <td></td>\n",
       "      <td>16</td>\n",
       "      <td>Orc</td>\n",
       "      <td>Hunter</td>\n",
       "      <td>The Barrens</td>\n",
       "      <td>yes</td>\n",
       "      <td>0</td>\n",
       "    </tr>\n",
       "  </tbody>\n",
       "</table>\n",
       "</div>"
      ],
      "text/plain": [
       "   0   12/31/05 23:59:46   1  0.1      5   Orc   Warrior       Durotar    no  \\\n",
       "0  0   12/31/05 23:59:46   1    1      9   Orc    Shaman       Durotar   yes   \n",
       "1  0   12/31/05 23:59:52   2    2     13   Orc    Shaman       Durotar    no   \n",
       "2  0   12/31/05 23:59:52   2    3  0  14   Orc   Warrior       Durotar    no   \n",
       "3  0   12/31/05 23:59:52   2    4     14   Orc    Shaman       Durotar   yes   \n",
       "4  0   12/31/05 23:59:52   2    5     16   Orc    Hunter   The Barrens   yes   \n",
       "\n",
       "    0  \n",
       "0   0  \n",
       "1   0  \n",
       "2   0  \n",
       "3   0  \n",
       "4   0  "
      ]
     },
     "execution_count": 23,
     "metadata": {},
     "output_type": "execute_result"
    }
   ],
   "source": [
    "df.head(5)"
   ]
  }
 ],
 "metadata": {
  "kernelspec": {
   "display_name": "Python 2",
   "language": "python",
   "name": "python2"
  },
  "language_info": {
   "codemirror_mode": {
    "name": "ipython",
    "version": 2
   },
   "file_extension": ".py",
   "mimetype": "text/x-python",
   "name": "python",
   "nbconvert_exporter": "python",
   "pygments_lexer": "ipython2",
   "version": "2.7.13"
  }
 },
 "nbformat": 4,
 "nbformat_minor": 2
}
