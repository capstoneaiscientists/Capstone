{
 "cells": [
  {
   "cell_type": "code",
   "execution_count": 1,
   "metadata": {
    "collapsed": false
   },
   "outputs": [],
   "source": [
    "from pyspark import SparkContext\n",
    "from pyspark.sql import SQLContext\n",
    "sc = SparkContext.getOrCreate()\n",
    "spark = SQLContext(sc)"
   ]
  },
  {
   "cell_type": "code",
   "execution_count": 2,
   "metadata": {
    "collapsed": false
   },
   "outputs": [],
   "source": [
    "df_load = sc.textFile('H:\\Output\\wowlogs.csv')"
   ]
  },
  {
   "cell_type": "code",
   "execution_count": 3,
   "metadata": {
    "collapsed": false
   },
   "outputs": [
    {
     "data": {
      "text/plain": [
       "pyspark.rdd.RDD"
      ]
     },
     "execution_count": 3,
     "metadata": {},
     "output_type": "execute_result"
    }
   ],
   "source": [
    "type(df_load)"
   ]
  },
  {
   "cell_type": "code",
   "execution_count": 4,
   "metadata": {
    "collapsed": false
   },
   "outputs": [],
   "source": [
    "raw = df_load.map(lambda x:x.split(\",\"))"
   ]
  },
  {
   "cell_type": "code",
   "execution_count": 5,
   "metadata": {
    "collapsed": false
   },
   "outputs": [],
   "source": [
    "refined = raw.map(lambda x: [x[1], x[2], x[3],x[4], x[5],x[6],x[7],x[8]])"
   ]
  },
  {
   "cell_type": "code",
   "execution_count": 6,
   "metadata": {
    "collapsed": false
   },
   "outputs": [
    {
     "data": {
      "text/plain": [
       "[[u' 12/31/05 23:59:46',\n",
       "  u' 1',\n",
       "  u'0',\n",
       "  u' ',\n",
       "  u' 5',\n",
       "  u' Orc',\n",
       "  u' Warrior',\n",
       "  u' Durotar']]"
      ]
     },
     "execution_count": 6,
     "metadata": {},
     "output_type": "execute_result"
    }
   ],
   "source": [
    "refined.take(1)"
   ]
  },
  {
   "cell_type": "code",
   "execution_count": 7,
   "metadata": {
    "collapsed": true
   },
   "outputs": [],
   "source": [
    "refined_df = refined.toDF(['QueryTime','QuerySeq','AvatarID','Guild','Level','Race','Class','Zone'])"
   ]
  },
  {
   "cell_type": "code",
   "execution_count": 8,
   "metadata": {
    "collapsed": false
   },
   "outputs": [
    {
     "name": "stdout",
     "output_type": "stream",
     "text": [
      "+------------------+--------+--------+-----+-----+----+--------+--------+\n",
      "|         QueryTime|QuerySeq|AvatarID|Guild|Level|Race|   Class|    Zone|\n",
      "+------------------+--------+--------+-----+-----+----+--------+--------+\n",
      "| 12/31/05 23:59:46|       1|       0|     |    5| Orc| Warrior| Durotar|\n",
      "| 12/31/05 23:59:46|       1|       1|     |    9| Orc|  Shaman| Durotar|\n",
      "| 12/31/05 23:59:52|       2|       2|     |   13| Orc|  Shaman| Durotar|\n",
      "| 12/31/05 23:59:52|       2|       3|    0|   14| Orc| Warrior| Durotar|\n",
      "| 12/31/05 23:59:52|       2|       4|     |   14| Orc|  Shaman| Durotar|\n",
      "+------------------+--------+--------+-----+-----+----+--------+--------+\n",
      "only showing top 5 rows\n",
      "\n"
     ]
    }
   ],
   "source": [
    "refined_df.show(5)"
   ]
  },
  {
   "cell_type": "code",
   "execution_count": 9,
   "metadata": {
    "collapsed": false
   },
   "outputs": [
    {
     "name": "stdout",
     "output_type": "stream",
     "text": [
      "root\n",
      " |-- QueryTime: string (nullable = true)\n",
      " |-- QuerySeq: string (nullable = true)\n",
      " |-- AvatarID: string (nullable = true)\n",
      " |-- Guild: string (nullable = true)\n",
      " |-- Level: string (nullable = true)\n",
      " |-- Race: string (nullable = true)\n",
      " |-- Class: string (nullable = true)\n",
      " |-- Zone: string (nullable = true)\n",
      "\n"
     ]
    }
   ],
   "source": [
    "refined_df.printSchema()"
   ]
  },
  {
   "cell_type": "code",
   "execution_count": null,
   "metadata": {
    "collapsed": true
   },
   "outputs": [],
   "source": []
  }
 ],
 "metadata": {
  "kernelspec": {
   "display_name": "Python 2",
   "language": "python",
   "name": "python2"
  },
  "language_info": {
   "codemirror_mode": {
    "name": "ipython",
    "version": 2
   },
   "file_extension": ".py",
   "mimetype": "text/x-python",
   "name": "python",
   "nbconvert_exporter": "python",
   "pygments_lexer": "ipython2",
   "version": "2.7.13"
  }
 },
 "nbformat": 4,
 "nbformat_minor": 2
}
